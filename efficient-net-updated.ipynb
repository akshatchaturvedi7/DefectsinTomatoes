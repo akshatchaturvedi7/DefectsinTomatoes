{
 "cells": [
  {
   "cell_type": "code",
   "execution_count": 9,
   "metadata": {
    "_cell_guid": "b1076dfc-b9ad-4769-8c92-a6c4dae69d19",
    "_uuid": "8f2839f25d086af736a60e9eeb907d3b93b6e0e5"
   },
   "outputs": [],
   "source": [
    "import os\n",
    "import cv2\n",
    "import glob\n",
    "import h5py\n",
    "import shutil\n",
    "import keras\n",
    "import imgaug as aug\n",
    "import numpy as np \n",
    "import pandas as pd \n",
    "import seaborn as sns\n",
    "import matplotlib.pyplot as plt\n",
    "import matplotlib.image as mimg\n",
    "import imgaug.augmenters as augment\n",
    "import tensorflow as tf\n",
    "from os import listdir, makedirs, getcwd, remove\n",
    "from os.path import isfile, join, abspath, exists, isdir, expanduser\n",
    "from PIL import Image\n",
    "from pathlib import Path\n",
    "\n",
    "from skimage.io import imread\n",
    "from skimage.transform import resize\n",
    "\n",
    "from keras.models import Sequential, Model\n",
    "from keras.applications.xception import Xception\n",
    "from keras.applications.resnet50 import ResNet50\n",
    "from keras.applications.vgg16 import VGG16, preprocess_input\n",
    "from keras.preprocessing.image import ImageDataGenerator,load_img, img_to_array\n",
    "from keras.models import Sequential\n",
    "from keras.layers import Conv2D, MaxPooling2D, Dense, Dropout, Input, Flatten, SeparableConv2D,GlobalAveragePooling2D\n",
    "from keras.layers import GlobalMaxPooling2D\n",
    "from keras.layers.normalization import BatchNormalization\n",
    "from keras.layers.merge import Concatenate\n",
    "from keras.models import Model\n",
    "from keras import backend as K\n",
    "from keras.optimizers import Adam, SGD, RMSprop\n",
    "from keras.utils.vis_utils import plot_model\n",
    "from keras.callbacks import ModelCheckpoint, Callback, EarlyStopping,EarlyStopping,TensorBoard,ReduceLROnPlateau,CSVLogger,LearningRateScheduler\n",
    "from keras.utils import to_categorical\n",
    "\n",
    "from sklearn.model_selection import train_test_split\n",
    "from sklearn.preprocessing import StandardScaler\n",
    "from mlxtend.plotting import plot_confusion_matrix\n",
    "from sklearn.metrics import confusion_matrix\n",
    "color = sns.color_palette()\n",
    "%matplotlib inline"
   ]
  },
  {
   "cell_type": "code",
   "execution_count": null,
   "metadata": {},
   "outputs": [],
   "source": []
  },
  {
   "cell_type": "code",
   "execution_count": 10,
   "metadata": {},
   "outputs": [],
   "source": [
    "train = '../input/chest-xray-pneumonia/chest_xray/train/'\n",
    "val = '../input/chest-xray-pneumonia/chest_xray/val/'\n",
    "test = '../input/chest-xray-pneumonia/chest_xray/test/'\n",
    "\n",
    "normal_data_dir = '../input/chest-xray-pneumonia/chest_xray/train/NORMAL/'\n",
    "pneumonia_data_dir = '../input/chest-xray-pneumonia/chest_xray/train/PNEUMONIA/'\n"
   ]
  },
  {
   "cell_type": "code",
   "execution_count": null,
   "metadata": {},
   "outputs": [],
   "source": []
  },
  {
   "cell_type": "code",
   "execution_count": null,
   "metadata": {},
   "outputs": [],
   "source": []
  },
  {
   "cell_type": "code",
   "execution_count": 11,
   "metadata": {},
   "outputs": [
    {
     "name": "stdout",
     "output_type": "stream",
     "text": [
      "Found 5216 images belonging to 2 classes.\n",
      "Found 624 images belonging to 2 classes.\n",
      "Found 16 images belonging to 2 classes.\n"
     ]
    }
   ],
   "source": [
    "SIZE = 128\n",
    "BATCH = 16\n",
    "\n",
    "augs = ImageDataGenerator(\n",
    "    rescale=1. / 255,\n",
    "    shear_range=0.2,\n",
    "    zoom_range=0.2,\n",
    "    horizontal_flip=True)\n",
    "\n",
    "val_augs = ImageDataGenerator(rescale=1./255)\n",
    "\n",
    "train_generator = augs.flow_from_directory(\n",
    "    train,\n",
    "    target_size=(224, 224),\n",
    "    batch_size=16,\n",
    "    class_mode='binary'\n",
    ")\n",
    "\n",
    "test_generator = val_augs.flow_from_directory(\n",
    "    test,\n",
    "    target_size=(224, 224),\n",
    "    batch_size=16,\n",
    "    class_mode='binary'\n",
    ")\n",
    "\n",
    "val_generator = val_augs.flow_from_directory(\n",
    "    val,\n",
    "    target_size=(224, 224),\n",
    "    batch_size=16,\n",
    "    shuffle=False,\n",
    "    class_mode='binary'\n",
    ")\n",
    "\n"
   ]
  },
  {
   "cell_type": "code",
   "execution_count": 12,
   "metadata": {},
   "outputs": [
    {
     "name": "stdout",
     "output_type": "stream",
     "text": [
      "Requirement already satisfied: efficientnet in /opt/conda/lib/python3.7/site-packages (1.1.1)\n",
      "Requirement already satisfied: keras-applications<=1.0.8,>=1.0.7 in /opt/conda/lib/python3.7/site-packages (from efficientnet) (1.0.8)\n",
      "Requirement already satisfied: scikit-image in /opt/conda/lib/python3.7/site-packages (from efficientnet) (0.18.1)\n",
      "Requirement already satisfied: numpy>=1.9.1 in /opt/conda/lib/python3.7/site-packages (from keras-applications<=1.0.8,>=1.0.7->efficientnet) (1.19.5)\n",
      "Requirement already satisfied: h5py in /opt/conda/lib/python3.7/site-packages (from keras-applications<=1.0.8,>=1.0.7->efficientnet) (2.10.0)\n",
      "Requirement already satisfied: six in /opt/conda/lib/python3.7/site-packages (from h5py->keras-applications<=1.0.8,>=1.0.7->efficientnet) (1.15.0)\n",
      "Requirement already satisfied: networkx>=2.0 in /opt/conda/lib/python3.7/site-packages (from scikit-image->efficientnet) (2.5)\n",
      "Requirement already satisfied: pillow!=7.1.0,!=7.1.1,>=4.3.0 in /opt/conda/lib/python3.7/site-packages (from scikit-image->efficientnet) (7.2.0)\n",
      "Requirement already satisfied: tifffile>=2019.7.26 in /opt/conda/lib/python3.7/site-packages (from scikit-image->efficientnet) (2021.4.8)\n",
      "Requirement already satisfied: PyWavelets>=1.1.1 in /opt/conda/lib/python3.7/site-packages (from scikit-image->efficientnet) (1.1.1)\n",
      "Requirement already satisfied: imageio>=2.3.0 in /opt/conda/lib/python3.7/site-packages (from scikit-image->efficientnet) (2.9.0)\n",
      "Requirement already satisfied: matplotlib!=3.0.0,>=2.0.0 in /opt/conda/lib/python3.7/site-packages (from scikit-image->efficientnet) (3.4.1)\n",
      "Requirement already satisfied: scipy>=1.0.1 in /opt/conda/lib/python3.7/site-packages (from scikit-image->efficientnet) (1.5.4)\n",
      "Requirement already satisfied: python-dateutil>=2.7 in /opt/conda/lib/python3.7/site-packages (from matplotlib!=3.0.0,>=2.0.0->scikit-image->efficientnet) (2.8.1)\n",
      "Requirement already satisfied: kiwisolver>=1.0.1 in /opt/conda/lib/python3.7/site-packages (from matplotlib!=3.0.0,>=2.0.0->scikit-image->efficientnet) (1.3.1)\n",
      "Requirement already satisfied: cycler>=0.10 in /opt/conda/lib/python3.7/site-packages (from matplotlib!=3.0.0,>=2.0.0->scikit-image->efficientnet) (0.10.0)\n",
      "Requirement already satisfied: pyparsing>=2.2.1 in /opt/conda/lib/python3.7/site-packages (from matplotlib!=3.0.0,>=2.0.0->scikit-image->efficientnet) (2.4.7)\n",
      "Requirement already satisfied: decorator>=4.3.0 in /opt/conda/lib/python3.7/site-packages (from networkx>=2.0->scikit-image->efficientnet) (4.4.2)\n"
     ]
    }
   ],
   "source": [
    "!pip install efficientnet"
   ]
  },
  {
   "cell_type": "code",
   "execution_count": 13,
   "metadata": {},
   "outputs": [
    {
     "name": "stdout",
     "output_type": "stream",
     "text": [
      "Epoch 1/20\n",
      "326/326 [==============================] - 182s 489ms/step - loss: 0.2529 - accuracy: 0.8974 - recall_1: 0.9230 - precision_1: 0.9382 - val_loss: 0.1428 - val_accuracy: 1.0000 - val_recall_1: 1.0000 - val_precision_1: 1.0000\n",
      "Epoch 2/20\n",
      "326/326 [==============================] - 155s 476ms/step - loss: 0.1406 - accuracy: 0.9461 - recall_1: 0.9586 - precision_1: 0.9700 - val_loss: 0.4478 - val_accuracy: 0.7500 - val_recall_1: 1.0000 - val_precision_1: 0.6667\n",
      "Epoch 3/20\n",
      "326/326 [==============================] - 156s 477ms/step - loss: 0.0725 - accuracy: 0.9719 - recall_1: 0.9811 - precision_1: 0.9815 - val_loss: 0.1950 - val_accuracy: 0.8750 - val_recall_1: 0.7500 - val_precision_1: 1.0000\n",
      "Epoch 4/20\n",
      "326/326 [==============================] - 152s 467ms/step - loss: 0.0789 - accuracy: 0.9699 - recall_1: 0.9792 - precision_1: 0.9802 - val_loss: 0.3329 - val_accuracy: 0.8125 - val_recall_1: 1.0000 - val_precision_1: 0.7273\n",
      "\n",
      "Epoch 00004: ReduceLROnPlateau reducing learning rate to 0.0003000000142492354.\n",
      "Epoch 5/20\n",
      "326/326 [==============================] - 152s 467ms/step - loss: 0.0458 - accuracy: 0.9836 - recall_1: 0.9898 - precision_1: 0.9881 - val_loss: 0.0671 - val_accuracy: 1.0000 - val_recall_1: 1.0000 - val_precision_1: 1.0000\n",
      "Epoch 6/20\n",
      "326/326 [==============================] - 150s 460ms/step - loss: 0.0356 - accuracy: 0.9858 - recall_1: 0.9928 - precision_1: 0.9881 - val_loss: 0.0405 - val_accuracy: 1.0000 - val_recall_1: 1.0000 - val_precision_1: 1.0000\n",
      "Epoch 7/20\n",
      "326/326 [==============================] - 149s 455ms/step - loss: 0.0321 - accuracy: 0.9877 - recall_1: 0.9907 - precision_1: 0.9928 - val_loss: 0.0336 - val_accuracy: 1.0000 - val_recall_1: 1.0000 - val_precision_1: 1.0000\n",
      "Epoch 8/20\n",
      "326/326 [==============================] - 149s 455ms/step - loss: 0.0239 - accuracy: 0.9928 - recall_1: 0.9951 - precision_1: 0.9953 - val_loss: 0.0077 - val_accuracy: 1.0000 - val_recall_1: 1.0000 - val_precision_1: 1.0000\n",
      "Epoch 9/20\n",
      "326/326 [==============================] - 150s 460ms/step - loss: 0.0254 - accuracy: 0.9916 - recall_1: 0.9938 - precision_1: 0.9947 - val_loss: 0.0186 - val_accuracy: 1.0000 - val_recall_1: 1.0000 - val_precision_1: 1.0000\n",
      "Epoch 10/20\n",
      "326/326 [==============================] - 151s 462ms/step - loss: 0.0336 - accuracy: 0.9868 - recall_1: 0.9917 - precision_1: 0.9908 - val_loss: 0.0058 - val_accuracy: 1.0000 - val_recall_1: 1.0000 - val_precision_1: 1.0000\n",
      "Epoch 11/20\n",
      "326/326 [==============================] - 147s 451ms/step - loss: 0.0179 - accuracy: 0.9945 - recall_1: 0.9956 - precision_1: 0.9970 - val_loss: 0.1028 - val_accuracy: 0.9375 - val_recall_1: 0.8750 - val_precision_1: 1.0000\n",
      "Epoch 12/20\n",
      "326/326 [==============================] - 148s 454ms/step - loss: 0.0130 - accuracy: 0.9956 - recall_1: 0.9962 - precision_1: 0.9979 - val_loss: 0.0088 - val_accuracy: 1.0000 - val_recall_1: 1.0000 - val_precision_1: 1.0000\n",
      "Epoch 13/20\n",
      "326/326 [==============================] - 151s 462ms/step - loss: 0.0185 - accuracy: 0.9942 - recall_1: 0.9962 - precision_1: 0.9960 - val_loss: 0.0065 - val_accuracy: 1.0000 - val_recall_1: 1.0000 - val_precision_1: 1.0000\n",
      "\n",
      "Epoch 00013: ReduceLROnPlateau reducing learning rate to 9.000000427477062e-05.\n",
      "Epoch 14/20\n",
      "326/326 [==============================] - 149s 455ms/step - loss: 0.0195 - accuracy: 0.9934 - recall_1: 0.9954 - precision_1: 0.9957 - val_loss: 0.0113 - val_accuracy: 1.0000 - val_recall_1: 1.0000 - val_precision_1: 1.0000\n",
      "Epoch 15/20\n",
      "326/326 [==============================] - 149s 455ms/step - loss: 0.0068 - accuracy: 0.9982 - recall_1: 0.9984 - precision_1: 0.9992 - val_loss: 0.0091 - val_accuracy: 1.0000 - val_recall_1: 1.0000 - val_precision_1: 1.0000\n",
      "Epoch 16/20\n",
      "326/326 [==============================] - 151s 464ms/step - loss: 0.0047 - accuracy: 0.9983 - recall_1: 0.9989 - precision_1: 0.9989 - val_loss: 0.0027 - val_accuracy: 1.0000 - val_recall_1: 1.0000 - val_precision_1: 1.0000\n",
      "Epoch 17/20\n",
      "326/326 [==============================] - 155s 476ms/step - loss: 0.0110 - accuracy: 0.9966 - recall_1: 0.9984 - precision_1: 0.9970 - val_loss: 0.0022 - val_accuracy: 1.0000 - val_recall_1: 1.0000 - val_precision_1: 1.0000\n",
      "Epoch 18/20\n",
      "326/326 [==============================] - 155s 476ms/step - loss: 0.0054 - accuracy: 0.9979 - recall_1: 0.9987 - precision_1: 0.9984 - val_loss: 0.1167 - val_accuracy: 0.9375 - val_recall_1: 0.8750 - val_precision_1: 1.0000\n",
      "Epoch 19/20\n",
      "326/326 [==============================] - 154s 472ms/step - loss: 0.0071 - accuracy: 0.9972 - recall_1: 0.9980 - precision_1: 0.9982 - val_loss: 0.0644 - val_accuracy: 0.9375 - val_recall_1: 0.8750 - val_precision_1: 1.0000\n",
      "Epoch 20/20\n",
      "326/326 [==============================] - 154s 471ms/step - loss: 0.0065 - accuracy: 0.9983 - recall_1: 0.9981 - precision_1: 0.9997 - val_loss: 0.0432 - val_accuracy: 1.0000 - val_recall_1: 1.0000 - val_precision_1: 1.0000\n",
      "\n",
      "Epoch 00020: ReduceLROnPlateau reducing learning rate to 2.700000040931627e-05.\n"
     ]
    }
   ],
   "source": [
    "import efficientnet.keras as efn\n",
    "from tensorflow.keras.callbacks import Callback\n",
    "from keras.models import Model\n",
    "from keras.layers import Dense, GlobalAveragePooling2D\n",
    "from keras.callbacks import ReduceLROnPlateau, ModelCheckpoint\n",
    "from tensorflow.keras.metrics import Recall, Precision\n",
    "\n",
    "# Callbacks\n",
    "## Keep the best model\n",
    "mc = ModelCheckpoint('model.hdf5', \n",
    "                     save_best_only=True, \n",
    "                     verbose=0, \n",
    "                     monitor='val_loss', \n",
    "                     mode='min')\n",
    "\n",
    "## Reduce learning rate if it gets stuck in a plateau\n",
    "rlr = ReduceLROnPlateau(monitor='val_loss', \n",
    "                        factor=0.3, \n",
    "                        patience=3, \n",
    "                        min_lr=0.000001, \n",
    "                        verbose=1)\n",
    "# Model\n",
    "## Define the base model with EfficientNet weights\n",
    "model = efn.EfficientNetB4(weights = 'imagenet', \n",
    "                           include_top = False, \n",
    "                           input_shape = (SIZE, SIZE, 3))\n",
    "\n",
    "## Output layer\n",
    "x = model.output\n",
    "x = GlobalAveragePooling2D()(x)\n",
    "x = Dense(64, activation=\"relu\")(x)\n",
    "x = Dense(32, activation=\"relu\")(x)\n",
    "predictions = Dense(1, activation=\"sigmoid\")(x)\n",
    "\n",
    "## Compile and run\n",
    "model = Model(inputs=model.input, outputs=predictions)\n",
    "\n",
    "model.compile(optimizer='adam',\n",
    "              loss='binary_crossentropy', \n",
    "              metrics=['accuracy', Recall(), Precision()])\n",
    "model_history = model.fit(train_generator,\n",
    "                            validation_data=val_generator,\n",
    "                            steps_per_epoch=train_generator.n/BATCH,\n",
    "                            validation_steps=val_generator.n/BATCH,\n",
    "                            epochs=20,\n",
    "                            verbose=1,\n",
    "                            callbacks=[mc, rlr])"
   ]
  },
  {
   "cell_type": "code",
   "execution_count": 14,
   "metadata": {},
   "outputs": [],
   "source": [
    "model.load_weights(\"model.hdf5\")"
   ]
  },
  {
   "cell_type": "code",
   "execution_count": 15,
   "metadata": {},
   "outputs": [
    {
     "data": {
      "text/plain": [
       "<Figure size 432x288 with 0 Axes>"
      ]
     },
     "execution_count": 15,
     "metadata": {},
     "output_type": "execute_result"
    },
    {
     "data": {
      "image/png": "[encoded data removed]",
      "text/plain": [
       "<Figure size 432x288 with 1 Axes>"
      ]
     },
     "metadata": {
      "needs_background": "light"
     },
     "output_type": "display_data"
    },
    {
     "data": {
      "text/plain": [
       "<Figure size 432x288 with 0 Axes>"
      ]
     },
     "metadata": {},
     "output_type": "display_data"
    }
   ],
   "source": [
    "acc = model_history.history['accuracy']\n",
    "val_acc = model_history.history['val_accuracy']\n",
    "\n",
    "epochs = range(len(acc))\n",
    "plt.xlabel('Akshat')\n",
    "plt.ylabel('Arpan')\n",
    "plt.plot(epochs, acc, 'r', label='Training accuracy')\n",
    "plt.plot(epochs, val_acc, 'b', label='Validation accuracy')\n",
    "plt.title('Training and validation accuracy')\n",
    "plt.legend()\n",
    "plt.figure()"
   ]
  },
  {
   "cell_type": "code",
   "execution_count": null,
   "metadata": {},
   "outputs": [],
   "source": []
  },
  {
   "cell_type": "code",
   "execution_count": 16,
   "metadata": {},
   "outputs": [
    {
     "name": "stderr",
     "output_type": "stream",
     "text": [
      "/opt/conda/lib/python3.7/site-packages/tensorflow/python/keras/engine/training.py:1905: UserWarning: `Model.predict_generator` is deprecated and will be removed in a future version. Please use `Model.predict`, which supports generators.\n",
      "  warnings.warn('`Model.predict_generator` is deprecated and '\n",
      "/opt/conda/lib/python3.7/site-packages/ipykernel_launcher.py:8: UserWarning: FixedFormatter should only be used together with FixedLocator\n",
      "  \n",
      "/opt/conda/lib/python3.7/site-packages/ipykernel_launcher.py:9: UserWarning: FixedFormatter should only be used together with FixedLocator\n",
      "  if __name__ == '__main__':\n"
     ]
    },
    {
     "data": {
      "image/png": "[encoded data removed]",
      "text/plain": [
       "<Figure size 360x360 with 1 Axes>"
      ]
     },
     "metadata": {
      "needs_background": "light"
     },
     "output_type": "display_data"
    }
   ],
   "source": [
    "preds = model.predict_generator(generator=test_generator) # get proba predictions\n",
    "labels = 1*(preds > 0.5) # convert proba to classes\n",
    "from sklearn.metrics import confusion_matrix\n",
    "from mlxtend.plotting import plot_confusion_matrix\n",
    "CM = confusion_matrix(test_generator.classes, labels)\n",
    "fig, ax = plot_confusion_matrix(conf_mat=CM ,  figsize=(5, 5))\n",
    "plt_labels = ['NORMAL','PNEUMONIA']\n",
    "ax.set_xticklabels([''] + plt_labels)\n",
    "ax.set_yticklabels([''] + plt_labels)\n",
    "plt.show()"
   ]
  },
  {
   "cell_type": "code",
   "execution_count": null,
   "metadata": {},
   "outputs": [],
   "source": []
  },
  {
   "cell_type": "code",
   "execution_count": null,
   "metadata": {},
   "outputs": [],
   "source": []
  }
 ],
 "metadata": {
  "kernelspec": {
   "display_name": "Python 3",
   "language": "python",
   "name": "python3"
  },
  "language_info": {
   "codemirror_mode": {
    "name": "ipython",
    "version": 3
   },
   "file_extension": ".py",
   "mimetype": "text/x-python",
   "name": "python",
   "nbconvert_exporter": "python",
   "pygments_lexer": "ipython3",
   "version": "3.8.5"
  }
 },
 "nbformat": 4,
 "nbformat_minor": 4
}
